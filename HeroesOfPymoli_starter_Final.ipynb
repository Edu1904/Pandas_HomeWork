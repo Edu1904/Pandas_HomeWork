{
 "cells": [
  {
   "cell_type": "markdown",
   "metadata": {},
   "source": [
    "### Heroes Of Pymoli Data Analysis\n",
    "* Of the 1163 active players, the vast majority are male (84%). There also exists, a smaller, but notable proportion of female players (14%).\n",
    "\n",
    "* Our peak age demographic falls between 20-24 (44.8%) with secondary groups falling between 15-19 (18.60%) and 25-29 (13.4%).  \n",
    "-----"
   ]
  },
  {
   "cell_type": "markdown",
   "metadata": {},
   "source": [
    "### Note\n",
    "* Instructions have been included for each segment. You do not have to follow them exactly, but they are included to help you think through the steps."
   ]
  },
  {
   "cell_type": "code",
   "execution_count": 174,
   "metadata": {},
   "outputs": [
    {
     "data": {
      "text/html": [
       "<div>\n",
       "<style scoped>\n",
       "    .dataframe tbody tr th:only-of-type {\n",
       "        vertical-align: middle;\n",
       "    }\n",
       "\n",
       "    .dataframe tbody tr th {\n",
       "        vertical-align: top;\n",
       "    }\n",
       "\n",
       "    .dataframe thead th {\n",
       "        text-align: right;\n",
       "    }\n",
       "</style>\n",
       "<table border=\"1\" class=\"dataframe\">\n",
       "  <thead>\n",
       "    <tr style=\"text-align: right;\">\n",
       "      <th></th>\n",
       "      <th>Purchase ID</th>\n",
       "      <th>SN</th>\n",
       "      <th>Age</th>\n",
       "      <th>Gender</th>\n",
       "      <th>Item ID</th>\n",
       "      <th>Item Name</th>\n",
       "      <th>Price</th>\n",
       "    </tr>\n",
       "  </thead>\n",
       "  <tbody>\n",
       "    <tr>\n",
       "      <th>0</th>\n",
       "      <td>0</td>\n",
       "      <td>Lisim78</td>\n",
       "      <td>20</td>\n",
       "      <td>Male</td>\n",
       "      <td>108</td>\n",
       "      <td>Extraction, Quickblade Of Trembling Hands</td>\n",
       "      <td>3.53</td>\n",
       "    </tr>\n",
       "    <tr>\n",
       "      <th>1</th>\n",
       "      <td>1</td>\n",
       "      <td>Lisovynya38</td>\n",
       "      <td>40</td>\n",
       "      <td>Male</td>\n",
       "      <td>143</td>\n",
       "      <td>Frenzied Scimitar</td>\n",
       "      <td>1.56</td>\n",
       "    </tr>\n",
       "    <tr>\n",
       "      <th>2</th>\n",
       "      <td>2</td>\n",
       "      <td>Ithergue48</td>\n",
       "      <td>24</td>\n",
       "      <td>Male</td>\n",
       "      <td>92</td>\n",
       "      <td>Final Critic</td>\n",
       "      <td>4.88</td>\n",
       "    </tr>\n",
       "    <tr>\n",
       "      <th>3</th>\n",
       "      <td>3</td>\n",
       "      <td>Chamassasya86</td>\n",
       "      <td>24</td>\n",
       "      <td>Male</td>\n",
       "      <td>100</td>\n",
       "      <td>Blindscythe</td>\n",
       "      <td>3.27</td>\n",
       "    </tr>\n",
       "    <tr>\n",
       "      <th>4</th>\n",
       "      <td>4</td>\n",
       "      <td>Iskosia90</td>\n",
       "      <td>23</td>\n",
       "      <td>Male</td>\n",
       "      <td>131</td>\n",
       "      <td>Fury</td>\n",
       "      <td>1.44</td>\n",
       "    </tr>\n",
       "  </tbody>\n",
       "</table>\n",
       "</div>"
      ],
      "text/plain": [
       "   Purchase ID             SN  Age Gender  Item ID  \\\n",
       "0            0        Lisim78   20   Male      108   \n",
       "1            1    Lisovynya38   40   Male      143   \n",
       "2            2     Ithergue48   24   Male       92   \n",
       "3            3  Chamassasya86   24   Male      100   \n",
       "4            4      Iskosia90   23   Male      131   \n",
       "\n",
       "                                   Item Name  Price  \n",
       "0  Extraction, Quickblade Of Trembling Hands   3.53  \n",
       "1                          Frenzied Scimitar   1.56  \n",
       "2                               Final Critic   4.88  \n",
       "3                                Blindscythe   3.27  \n",
       "4                                       Fury   1.44  "
      ]
     },
     "execution_count": 174,
     "metadata": {},
     "output_type": "execute_result"
    }
   ],
   "source": [
    "# Dependencies and Setup\n",
    "import pandas as pd\n",
    "import numpy as np\n",
    "\n",
    "# File to Load (Remember to Change These)\n",
    "file_to_load = \"Resources/purchase_data.csv\"\n",
    "\n",
    "\n",
    "# Read Purchasing File and store into Pandas data frame\n",
    "purchase_data = pd.read_csv(file_to_load)\n",
    "purchase_data.head()"
   ]
  },
  {
   "cell_type": "markdown",
   "metadata": {},
   "source": [
    "## Player Count"
   ]
  },
  {
   "cell_type": "markdown",
   "metadata": {},
   "source": [
    "* Display the total number of players\n"
   ]
  },
  {
   "cell_type": "code",
   "execution_count": 175,
   "metadata": {},
   "outputs": [
    {
     "data": {
      "text/html": [
       "<div>\n",
       "<style scoped>\n",
       "    .dataframe tbody tr th:only-of-type {\n",
       "        vertical-align: middle;\n",
       "    }\n",
       "\n",
       "    .dataframe tbody tr th {\n",
       "        vertical-align: top;\n",
       "    }\n",
       "\n",
       "    .dataframe thead th {\n",
       "        text-align: right;\n",
       "    }\n",
       "</style>\n",
       "<table border=\"1\" class=\"dataframe\">\n",
       "  <thead>\n",
       "    <tr style=\"text-align: right;\">\n",
       "      <th></th>\n",
       "      <th>Purchase_ID</th>\n",
       "      <th>Player</th>\n",
       "      <th>Age</th>\n",
       "      <th>Gender</th>\n",
       "      <th>Item_ID</th>\n",
       "      <th>Item_Name</th>\n",
       "      <th>Price</th>\n",
       "    </tr>\n",
       "  </thead>\n",
       "  <tbody>\n",
       "    <tr>\n",
       "      <th>0</th>\n",
       "      <td>0</td>\n",
       "      <td>Lisim78</td>\n",
       "      <td>20</td>\n",
       "      <td>Male</td>\n",
       "      <td>108</td>\n",
       "      <td>Extraction, Quickblade Of Trembling Hands</td>\n",
       "      <td>3.53</td>\n",
       "    </tr>\n",
       "    <tr>\n",
       "      <th>1</th>\n",
       "      <td>1</td>\n",
       "      <td>Lisovynya38</td>\n",
       "      <td>40</td>\n",
       "      <td>Male</td>\n",
       "      <td>143</td>\n",
       "      <td>Frenzied Scimitar</td>\n",
       "      <td>1.56</td>\n",
       "    </tr>\n",
       "    <tr>\n",
       "      <th>2</th>\n",
       "      <td>2</td>\n",
       "      <td>Ithergue48</td>\n",
       "      <td>24</td>\n",
       "      <td>Male</td>\n",
       "      <td>92</td>\n",
       "      <td>Final Critic</td>\n",
       "      <td>4.88</td>\n",
       "    </tr>\n",
       "    <tr>\n",
       "      <th>3</th>\n",
       "      <td>3</td>\n",
       "      <td>Chamassasya86</td>\n",
       "      <td>24</td>\n",
       "      <td>Male</td>\n",
       "      <td>100</td>\n",
       "      <td>Blindscythe</td>\n",
       "      <td>3.27</td>\n",
       "    </tr>\n",
       "    <tr>\n",
       "      <th>4</th>\n",
       "      <td>4</td>\n",
       "      <td>Iskosia90</td>\n",
       "      <td>23</td>\n",
       "      <td>Male</td>\n",
       "      <td>131</td>\n",
       "      <td>Fury</td>\n",
       "      <td>1.44</td>\n",
       "    </tr>\n",
       "  </tbody>\n",
       "</table>\n",
       "</div>"
      ],
      "text/plain": [
       "   Purchase_ID         Player  Age Gender  Item_ID  \\\n",
       "0            0        Lisim78   20   Male      108   \n",
       "1            1    Lisovynya38   40   Male      143   \n",
       "2            2     Ithergue48   24   Male       92   \n",
       "3            3  Chamassasya86   24   Male      100   \n",
       "4            4      Iskosia90   23   Male      131   \n",
       "\n",
       "                                   Item_Name  Price  \n",
       "0  Extraction, Quickblade Of Trembling Hands   3.53  \n",
       "1                          Frenzied Scimitar   1.56  \n",
       "2                               Final Critic   4.88  \n",
       "3                                Blindscythe   3.27  \n",
       "4                                       Fury   1.44  "
      ]
     },
     "execution_count": 175,
     "metadata": {},
     "output_type": "execute_result"
    }
   ],
   "source": [
    "purchase_data.rename(columns = {'Purchase ID':'Purchase_ID',\"SN\":'Player', 'Item ID':'Item_ID','Item Name':'Item_Name'},inplace=True)\n",
    "purchase_data.head()"
   ]
  },
  {
   "cell_type": "code",
   "execution_count": 6,
   "metadata": {},
   "outputs": [
    {
     "name": "stdout",
     "output_type": "stream",
     "text": [
      "Total Number of Players: 576\n"
     ]
    }
   ],
   "source": [
    "#Total Number of Players\n",
    "\n",
    "totalnunplayers=purchase_data.groupby(\"Player\")[\"Player\"].nunique().count()\n",
    "print('Total Number of Players: '+ str(totalnunplayers))"
   ]
  },
  {
   "cell_type": "markdown",
   "metadata": {},
   "source": [
    "## Purchasing Analysis (Total)"
   ]
  },
  {
   "cell_type": "markdown",
   "metadata": {},
   "source": [
    "* Run basic calculations to obtain number of unique items, average price, etc.\n",
    "\n",
    "\n",
    "* Create a summary data frame to hold the results\n",
    "\n",
    "\n",
    "* Optional: give the displayed data cleaner formatting\n",
    "\n",
    "\n",
    "* Display the summary data frame\n"
   ]
  },
  {
   "cell_type": "code",
   "execution_count": 7,
   "metadata": {},
   "outputs": [],
   "source": [
    "#uniqueitems=purchase_data.groupby(\"Purchase ID\")[\"Purchase ID\"].count()\n",
    "#uniqueitems"
   ]
  },
  {
   "cell_type": "code",
   "execution_count": 8,
   "metadata": {},
   "outputs": [
    {
     "data": {
      "text/plain": [
       "576"
      ]
     },
     "execution_count": 8,
     "metadata": {},
     "output_type": "execute_result"
    }
   ],
   "source": [
    "totalplayers=purchase_data['Player'].nunique()\n",
    "totalplayers"
   ]
  },
  {
   "cell_type": "code",
   "execution_count": 9,
   "metadata": {},
   "outputs": [
    {
     "data": {
      "text/plain": [
       "179"
      ]
     },
     "execution_count": 9,
     "metadata": {},
     "output_type": "execute_result"
    }
   ],
   "source": [
    "uniqitems=purchase_data['Item_Name'].nunique()\n",
    "uniqitems"
   ]
  },
  {
   "cell_type": "code",
   "execution_count": 10,
   "metadata": {},
   "outputs": [
    {
     "data": {
      "text/plain": [
       "3.050987179487176"
      ]
     },
     "execution_count": 10,
     "metadata": {},
     "output_type": "execute_result"
    }
   ],
   "source": [
    "avgprice=purchase_data['Price'].mean()\n",
    "avgprice"
   ]
  },
  {
   "cell_type": "code",
   "execution_count": 11,
   "metadata": {
    "scrolled": true
   },
   "outputs": [
    {
     "data": {
      "text/plain": [
       "780"
      ]
     },
     "execution_count": 11,
     "metadata": {},
     "output_type": "execute_result"
    }
   ],
   "source": [
    "totalpurchase=purchase_data['Purchase_ID'].nunique()\n",
    "totalpurchase"
   ]
  },
  {
   "cell_type": "code",
   "execution_count": 12,
   "metadata": {},
   "outputs": [
    {
     "data": {
      "text/plain": [
       "2379.77"
      ]
     },
     "execution_count": 12,
     "metadata": {},
     "output_type": "execute_result"
    }
   ],
   "source": [
    "totalrevenue=purchase_data['Price'].sum()\n",
    "totalrevenue"
   ]
  },
  {
   "cell_type": "code",
   "execution_count": 13,
   "metadata": {},
   "outputs": [
    {
     "data": {
      "text/html": [
       "<style  type=\"text/css\" >\n",
       "</style>  \n",
       "<table id=\"T_5540f1ec_433e_11e9_9f4a_f8cab8325e57\" > \n",
       "<thead>    <tr> \n",
       "        <th class=\"blank level0\" ></th> \n",
       "        <th class=\"col_heading level0 col0\" >Total_Number_of_Players</th> \n",
       "        <th class=\"col_heading level0 col1\" >Number _of_Unique_Items</th> \n",
       "        <th class=\"col_heading level0 col2\" >Average_Purchase_Price</th> \n",
       "        <th class=\"col_heading level0 col3\" >Total_Number_of_Purchases</th> \n",
       "        <th class=\"col_heading level0 col4\" >Total_Revenue</th> \n",
       "    </tr></thead> \n",
       "<tbody>    <tr> \n",
       "        <th id=\"T_5540f1ec_433e_11e9_9f4a_f8cab8325e57level0_row0\" class=\"row_heading level0 row0\" >0</th> \n",
       "        <td id=\"T_5540f1ec_433e_11e9_9f4a_f8cab8325e57row0_col0\" class=\"data row0 col0\" >576</td> \n",
       "        <td id=\"T_5540f1ec_433e_11e9_9f4a_f8cab8325e57row0_col1\" class=\"data row0 col1\" >179</td> \n",
       "        <td id=\"T_5540f1ec_433e_11e9_9f4a_f8cab8325e57row0_col2\" class=\"data row0 col2\" >$3.05</td> \n",
       "        <td id=\"T_5540f1ec_433e_11e9_9f4a_f8cab8325e57row0_col3\" class=\"data row0 col3\" >780</td> \n",
       "        <td id=\"T_5540f1ec_433e_11e9_9f4a_f8cab8325e57row0_col4\" class=\"data row0 col4\" >$2,379.77</td> \n",
       "    </tr></tbody> \n",
       "</table> "
      ],
      "text/plain": [
       "<pandas.io.formats.style.Styler at 0x2273d00edd8>"
      ]
     },
     "execution_count": 13,
     "metadata": {},
     "output_type": "execute_result"
    }
   ],
   "source": [
    "summary_tbl=pd.DataFrame([[totalplayers, uniqitems,(avgprice),totalpurchase,(totalrevenue)]],columns=['Total_Number_of_Players', 'Number _of_Unique_Items', 'Average_Purchase_Price','Total_Number_of_Purchases','Total_Revenue'])\n",
    "\n",
    "#summary_tbl\n",
    "summary_tbl_format=summary_tbl.style.format({\"Total_Number_of_Players\":\"{:,}\".format,\"Number _of_Unique_Items\":\"{:,}\".format,\"Average_Purchase_Price\":\"${:,.2f}\".format, \"Total_Revenue\":\"${:,.2f}\".format})\n",
    "summary_tbl_format\n"
   ]
  },
  {
   "cell_type": "markdown",
   "metadata": {},
   "source": [
    "## Gender Demographics"
   ]
  },
  {
   "cell_type": "markdown",
   "metadata": {},
   "source": [
    "* Percentage and Count of Male Players\n",
    "\n",
    "\n",
    "* Percentage and Count of Female Players\n",
    "\n",
    "\n",
    "* Percentage and Count of Other / Non-Disclosed\n",
    "\n",
    "\n"
   ]
  },
  {
   "cell_type": "code",
   "execution_count": 14,
   "metadata": {},
   "outputs": [
    {
     "data": {
      "text/plain": [
       "Gender\n",
       "Female                    81\n",
       "Male                     484\n",
       "Other / Non-Disclosed     11\n",
       "dtype: int64"
      ]
     },
     "execution_count": 14,
     "metadata": {},
     "output_type": "execute_result"
    }
   ],
   "source": [
    "group_gender=purchase_data.groupby(\"Gender\")[\"Player\"].nunique()\n",
    "group_gender.rename(columns= {'Player':'Total_Players'}, inplace=True)"
   ]
  },
  {
   "cell_type": "code",
   "execution_count": 15,
   "metadata": {},
   "outputs": [
    {
     "data": {
      "text/plain": [
       "Gender\n",
       "Female                   14.062500\n",
       "Male                     84.027778\n",
       "Other / Non-Disclosed     1.909722\n",
       "dtype: float64"
      ]
     },
     "execution_count": 15,
     "metadata": {},
     "output_type": "execute_result"
    }
   ],
   "source": [
    "perofplayers=((group_gender*100)/totalplayers)\n",
    "\n",
    "perofplayers\n",
    "\n"
   ]
  },
  {
   "cell_type": "code",
   "execution_count": 29,
   "metadata": {},
   "outputs": [],
   "source": [
    "\n",
    "summary_1 = pd.concat([group_gender,perofplayers], axis=1)\n",
    "\n",
    "summary_1.reset_index(inplace=True)\n",
    "\n",
    "summary_1\n",
    "\n",
    "summary_1.rename(columns={0:'Total_Players',1:\"Percentage_of_Players\"}, inplace=True)\n",
    "#summary_1\n",
    "\n"
   ]
  },
  {
   "cell_type": "code",
   "execution_count": 30,
   "metadata": {},
   "outputs": [
    {
     "data": {
      "text/html": [
       "<style  type=\"text/css\" >\n",
       "</style>  \n",
       "<table id=\"T_dbb5c546_433e_11e9_af11_f8cab8325e57\" > \n",
       "<thead>    <tr> \n",
       "        <th class=\"blank level0\" ></th> \n",
       "        <th class=\"col_heading level0 col0\" >Gender</th> \n",
       "        <th class=\"col_heading level0 col1\" >Total_Players</th> \n",
       "        <th class=\"col_heading level0 col2\" >Percentage_of_Players</th> \n",
       "    </tr></thead> \n",
       "<tbody>    <tr> \n",
       "        <th id=\"T_dbb5c546_433e_11e9_af11_f8cab8325e57level0_row0\" class=\"row_heading level0 row0\" >0</th> \n",
       "        <td id=\"T_dbb5c546_433e_11e9_af11_f8cab8325e57row0_col0\" class=\"data row0 col0\" >Male</td> \n",
       "        <td id=\"T_dbb5c546_433e_11e9_af11_f8cab8325e57row0_col1\" class=\"data row0 col1\" >484</td> \n",
       "        <td id=\"T_dbb5c546_433e_11e9_af11_f8cab8325e57row0_col2\" class=\"data row0 col2\" >84.0278%</td> \n",
       "    </tr>    <tr> \n",
       "        <th id=\"T_dbb5c546_433e_11e9_af11_f8cab8325e57level0_row1\" class=\"row_heading level0 row1\" >1</th> \n",
       "        <td id=\"T_dbb5c546_433e_11e9_af11_f8cab8325e57row1_col0\" class=\"data row1 col0\" >Female</td> \n",
       "        <td id=\"T_dbb5c546_433e_11e9_af11_f8cab8325e57row1_col1\" class=\"data row1 col1\" >81</td> \n",
       "        <td id=\"T_dbb5c546_433e_11e9_af11_f8cab8325e57row1_col2\" class=\"data row1 col2\" >14.0625%</td> \n",
       "    </tr>    <tr> \n",
       "        <th id=\"T_dbb5c546_433e_11e9_af11_f8cab8325e57level0_row2\" class=\"row_heading level0 row2\" >2</th> \n",
       "        <td id=\"T_dbb5c546_433e_11e9_af11_f8cab8325e57row2_col0\" class=\"data row2 col0\" >Other / Non-Disclosed</td> \n",
       "        <td id=\"T_dbb5c546_433e_11e9_af11_f8cab8325e57row2_col1\" class=\"data row2 col1\" >11</td> \n",
       "        <td id=\"T_dbb5c546_433e_11e9_af11_f8cab8325e57row2_col2\" class=\"data row2 col2\" >1.9097%</td> \n",
       "    </tr></tbody> \n",
       "</table> "
      ],
      "text/plain": [
       "<pandas.io.formats.style.Styler at 0x2273d099b00>"
      ]
     },
     "execution_count": 30,
     "metadata": {},
     "output_type": "execute_result"
    }
   ],
   "source": [
    "summary_1sort=summary_1.sort_values('Total_Players',ascending=False)\n",
    "\n",
    "summary_1sortindex=summary_1sort.reset_index(drop=True)\n",
    "#summary_1sortindex\n",
    "summary_1sortindex_format=summary_1sortindex.style.format({\"Total_Players\":\"{:,}\".format,\"Percentage_of_Players\":\"{:.4f}%\".format})\n",
    "\n",
    "summary_1sortindex_format"
   ]
  },
  {
   "cell_type": "code",
   "execution_count": null,
   "metadata": {},
   "outputs": [],
   "source": []
  },
  {
   "cell_type": "code",
   "execution_count": null,
   "metadata": {},
   "outputs": [],
   "source": []
  },
  {
   "cell_type": "markdown",
   "metadata": {},
   "source": [
    "\n",
    "## Purchasing Analysis (Gender)"
   ]
  },
  {
   "cell_type": "markdown",
   "metadata": {},
   "source": [
    "* Run basic calculations to obtain purchase count, avg. purchase price, avg. purchase total per person etc. by gender\n",
    "\n",
    "\n",
    "\n",
    "\n",
    "* Create a summary data frame to hold the results\n",
    "\n",
    "\n",
    "* Optional: give the displayed data cleaner formatting\n",
    "\n",
    "\n",
    "* Display the summary data frame"
   ]
  },
  {
   "cell_type": "code",
   "execution_count": 18,
   "metadata": {},
   "outputs": [
    {
     "data": {
      "text/plain": [
       "Gender\n",
       "Female                   113\n",
       "Male                     652\n",
       "Other / Non-Disclosed     15\n",
       "Name: Purchase_ID, dtype: int64"
      ]
     },
     "execution_count": 18,
     "metadata": {},
     "output_type": "execute_result"
    }
   ],
   "source": [
    "purchase_gender=purchase_data.groupby(\"Gender\")[\"Purchase_ID\"].count()\n",
    "purchase_gender"
   ]
  },
  {
   "cell_type": "code",
   "execution_count": 19,
   "metadata": {},
   "outputs": [
    {
     "data": {
      "text/plain": [
       "Gender\n",
       "Female                    361.94\n",
       "Male                     1967.64\n",
       "Other / Non-Disclosed      50.19\n",
       "dtype: float64"
      ]
     },
     "execution_count": 19,
     "metadata": {},
     "output_type": "execute_result"
    }
   ],
   "source": [
    "total_price_gender=purchase_data.groupby(\"Gender\")[\"Price\"].sum()\n",
    "total_price_gender\n",
    "total_price_gender.rename(columns= {'price':'Total_Purchase_Value'}, inplace=True)\n"
   ]
  },
  {
   "cell_type": "code",
   "execution_count": null,
   "metadata": {},
   "outputs": [],
   "source": []
  },
  {
   "cell_type": "code",
   "execution_count": 20,
   "metadata": {},
   "outputs": [
    {
     "data": {
      "text/plain": [
       "Gender\n",
       "Female                   3.203009\n",
       "Male                     3.017853\n",
       "Other / Non-Disclosed    3.346000\n",
       "Name: Price, dtype: float64"
      ]
     },
     "execution_count": 20,
     "metadata": {},
     "output_type": "execute_result"
    }
   ],
   "source": [
    "avgpurchase_gender=purchase_data.groupby(\"Gender\")[\"Price\"].mean()\n",
    "avgpurchase_gender\n"
   ]
  },
  {
   "cell_type": "code",
   "execution_count": 43,
   "metadata": {},
   "outputs": [
    {
     "data": {
      "text/html": [
       "<style  type=\"text/css\" >\n",
       "</style>  \n",
       "<table id=\"T_39f44f6c_4343_11e9_a242_f8cab8325e57\" > \n",
       "<thead>    <tr> \n",
       "        <th class=\"blank level0\" ></th> \n",
       "        <th class=\"col_heading level0 col0\" >Total_Purchase_by_Gender</th> \n",
       "        <th class=\"col_heading level0 col1\" >Total_Purchase_Value</th> \n",
       "        <th class=\"col_heading level0 col2\" >Avg_Purchase_Price</th> \n",
       "    </tr>    <tr> \n",
       "        <th class=\"index_name level0\" >Gender</th> \n",
       "        <th class=\"blank\" ></th> \n",
       "        <th class=\"blank\" ></th> \n",
       "        <th class=\"blank\" ></th> \n",
       "    </tr></thead> \n",
       "<tbody>    <tr> \n",
       "        <th id=\"T_39f44f6c_4343_11e9_a242_f8cab8325e57level0_row0\" class=\"row_heading level0 row0\" >Male</th> \n",
       "        <td id=\"T_39f44f6c_4343_11e9_a242_f8cab8325e57row0_col0\" class=\"data row0 col0\" >652</td> \n",
       "        <td id=\"T_39f44f6c_4343_11e9_a242_f8cab8325e57row0_col1\" class=\"data row0 col1\" >$1,967.64</td> \n",
       "        <td id=\"T_39f44f6c_4343_11e9_a242_f8cab8325e57row0_col2\" class=\"data row0 col2\" >$3.02</td> \n",
       "    </tr>    <tr> \n",
       "        <th id=\"T_39f44f6c_4343_11e9_a242_f8cab8325e57level0_row1\" class=\"row_heading level0 row1\" >Female</th> \n",
       "        <td id=\"T_39f44f6c_4343_11e9_a242_f8cab8325e57row1_col0\" class=\"data row1 col0\" >113</td> \n",
       "        <td id=\"T_39f44f6c_4343_11e9_a242_f8cab8325e57row1_col1\" class=\"data row1 col1\" >$361.94</td> \n",
       "        <td id=\"T_39f44f6c_4343_11e9_a242_f8cab8325e57row1_col2\" class=\"data row1 col2\" >$3.20</td> \n",
       "    </tr>    <tr> \n",
       "        <th id=\"T_39f44f6c_4343_11e9_a242_f8cab8325e57level0_row2\" class=\"row_heading level0 row2\" >Other / Non-Disclosed</th> \n",
       "        <td id=\"T_39f44f6c_4343_11e9_a242_f8cab8325e57row2_col0\" class=\"data row2 col0\" >15</td> \n",
       "        <td id=\"T_39f44f6c_4343_11e9_a242_f8cab8325e57row2_col1\" class=\"data row2 col1\" >$50.19</td> \n",
       "        <td id=\"T_39f44f6c_4343_11e9_a242_f8cab8325e57row2_col2\" class=\"data row2 col2\" >$3.35</td> \n",
       "    </tr></tbody> \n",
       "</table> "
      ],
      "text/plain": [
       "<pandas.io.formats.style.Styler at 0x2273cef5c50>"
      ]
     },
     "execution_count": 43,
     "metadata": {},
     "output_type": "execute_result"
    }
   ],
   "source": [
    "summary_2 = pd.concat([purchase_gender,total_price_gender,avgpurchase_gender], axis=1)\n",
    "\n",
    "#summary_1.reset_index(inplace=True)\n",
    "summary_2\n",
    "summary_2.rename(columns={\"Purchase_ID\":\"Total_Purchase_by_Gender\",0:'Total_Purchase_Value','Price':\"Avg_Purchase_Price\"}, inplace=True)\n",
    "#summary_2\n",
    "summary_2sort=summary_2.sort_values('Total_Purchase_by_Gender',ascending=False)\n",
    "summary_2sort_format=summary_2sort.style.format({\"Total_Purchase_by_Gender\":\"{:,}\".format,\"Total_Purchase_Value\":\"${:,.2f}\".format,\"Avg_Purchase_Price\":\"${:,.2f}\".format})\n",
    "\n",
    "summary_2sort_format"
   ]
  },
  {
   "cell_type": "code",
   "execution_count": 221,
   "metadata": {},
   "outputs": [],
   "source": [
    "agemax=purchase_data[purchase_data['Age']==purchase_data['Age'].max()]\n",
    "#agemax"
   ]
  },
  {
   "cell_type": "code",
   "execution_count": 220,
   "metadata": {},
   "outputs": [],
   "source": [
    "agemin=purchase_data[purchase_data['Age']==purchase_data['Age'].min()]\n",
    "#agemin.head()"
   ]
  },
  {
   "cell_type": "raw",
   "metadata": {},
   "source": []
  },
  {
   "cell_type": "code",
   "execution_count": 92,
   "metadata": {},
   "outputs": [],
   "source": [
    "bins=[0,10,14,19,24,29,34,39,50]\n",
    "labels=['<10','10 - 14','15 - 19','20 - 24','25 - 29','30 - 34','35 - 39','40+']\n",
    "purchase_data_binned =purchase_data.groupby (pd.cut(purchase_data['Age'], bins=bins, labels=labels)).nunique()\n",
    "#purchase_data_binned[\"Player\"]\n"
   ]
  },
  {
   "cell_type": "code",
   "execution_count": 93,
   "metadata": {
    "scrolled": true
   },
   "outputs": [
    {
     "data": {
      "text/plain": [
       "Age\n",
       "<10         4.166667\n",
       "10 - 14     2.604167\n",
       "15 - 19    18.576389\n",
       "20 - 24    44.791667\n",
       "25 - 29    13.368056\n",
       "30 - 34     9.027778\n",
       "35 - 39     5.381944\n",
       "40+         2.083333\n",
       "dtype: float64"
      ]
     },
     "execution_count": 93,
     "metadata": {},
     "output_type": "execute_result"
    }
   ],
   "source": [
    "percentageplayer=(purchase_data_binned['Player']/totalplayers)*100\n",
    "percentageplayer.rename(columns={\"Player\":\"Percentage_of_Players\"}, inplace=True)"
   ]
  },
  {
   "cell_type": "code",
   "execution_count": 223,
   "metadata": {},
   "outputs": [
    {
     "data": {
      "text/plain": [
       "Age\n",
       "<10         24\n",
       "10 - 14     15\n",
       "15 - 19    107\n",
       "20 - 24    258\n",
       "25 - 29     77\n",
       "30 - 34     52\n",
       "35 - 39     31\n",
       "40+         12\n",
       "dtype: int64"
      ]
     },
     "execution_count": 223,
     "metadata": {},
     "output_type": "execute_result"
    }
   ],
   "source": [
    "totalcount=purchase_data_binned[\"Player\"]\n",
    "totalcountrenam=totalcount.rename(columns={\"Player\":\"Total_Count\"}, inplace=True)\n",
    "totalcountrenam\n"
   ]
  },
  {
   "cell_type": "code",
   "execution_count": 214,
   "metadata": {},
   "outputs": [
    {
     "data": {
      "text/html": [
       "<style  type=\"text/css\" >\n",
       "</style>  \n",
       "<table id=\"T_58638b6e_43c2_11e9_96e5_f8cab8325e57\" > \n",
       "<thead>    <tr> \n",
       "        <th class=\"blank level0\" ></th> \n",
       "        <th class=\"col_heading level0 col0\" >Total_Count</th> \n",
       "        <th class=\"col_heading level0 col1\" >Percentage_of_Players</th> \n",
       "    </tr>    <tr> \n",
       "        <th class=\"index_name level0\" >Age</th> \n",
       "        <th class=\"blank\" ></th> \n",
       "        <th class=\"blank\" ></th> \n",
       "    </tr></thead> \n",
       "<tbody>    <tr> \n",
       "        <th id=\"T_58638b6e_43c2_11e9_96e5_f8cab8325e57level0_row0\" class=\"row_heading level0 row0\" ><10</th> \n",
       "        <td id=\"T_58638b6e_43c2_11e9_96e5_f8cab8325e57row0_col0\" class=\"data row0 col0\" >24</td> \n",
       "        <td id=\"T_58638b6e_43c2_11e9_96e5_f8cab8325e57row0_col1\" class=\"data row0 col1\" >4.17%</td> \n",
       "    </tr>    <tr> \n",
       "        <th id=\"T_58638b6e_43c2_11e9_96e5_f8cab8325e57level0_row1\" class=\"row_heading level0 row1\" >10 - 14</th> \n",
       "        <td id=\"T_58638b6e_43c2_11e9_96e5_f8cab8325e57row1_col0\" class=\"data row1 col0\" >15</td> \n",
       "        <td id=\"T_58638b6e_43c2_11e9_96e5_f8cab8325e57row1_col1\" class=\"data row1 col1\" >2.60%</td> \n",
       "    </tr>    <tr> \n",
       "        <th id=\"T_58638b6e_43c2_11e9_96e5_f8cab8325e57level0_row2\" class=\"row_heading level0 row2\" >15 - 19</th> \n",
       "        <td id=\"T_58638b6e_43c2_11e9_96e5_f8cab8325e57row2_col0\" class=\"data row2 col0\" >107</td> \n",
       "        <td id=\"T_58638b6e_43c2_11e9_96e5_f8cab8325e57row2_col1\" class=\"data row2 col1\" >18.58%</td> \n",
       "    </tr>    <tr> \n",
       "        <th id=\"T_58638b6e_43c2_11e9_96e5_f8cab8325e57level0_row3\" class=\"row_heading level0 row3\" >20 - 24</th> \n",
       "        <td id=\"T_58638b6e_43c2_11e9_96e5_f8cab8325e57row3_col0\" class=\"data row3 col0\" >258</td> \n",
       "        <td id=\"T_58638b6e_43c2_11e9_96e5_f8cab8325e57row3_col1\" class=\"data row3 col1\" >44.79%</td> \n",
       "    </tr>    <tr> \n",
       "        <th id=\"T_58638b6e_43c2_11e9_96e5_f8cab8325e57level0_row4\" class=\"row_heading level0 row4\" >25 - 29</th> \n",
       "        <td id=\"T_58638b6e_43c2_11e9_96e5_f8cab8325e57row4_col0\" class=\"data row4 col0\" >77</td> \n",
       "        <td id=\"T_58638b6e_43c2_11e9_96e5_f8cab8325e57row4_col1\" class=\"data row4 col1\" >13.37%</td> \n",
       "    </tr>    <tr> \n",
       "        <th id=\"T_58638b6e_43c2_11e9_96e5_f8cab8325e57level0_row5\" class=\"row_heading level0 row5\" >30 - 34</th> \n",
       "        <td id=\"T_58638b6e_43c2_11e9_96e5_f8cab8325e57row5_col0\" class=\"data row5 col0\" >52</td> \n",
       "        <td id=\"T_58638b6e_43c2_11e9_96e5_f8cab8325e57row5_col1\" class=\"data row5 col1\" >9.03%</td> \n",
       "    </tr>    <tr> \n",
       "        <th id=\"T_58638b6e_43c2_11e9_96e5_f8cab8325e57level0_row6\" class=\"row_heading level0 row6\" >35 - 39</th> \n",
       "        <td id=\"T_58638b6e_43c2_11e9_96e5_f8cab8325e57row6_col0\" class=\"data row6 col0\" >31</td> \n",
       "        <td id=\"T_58638b6e_43c2_11e9_96e5_f8cab8325e57row6_col1\" class=\"data row6 col1\" >5.38%</td> \n",
       "    </tr>    <tr> \n",
       "        <th id=\"T_58638b6e_43c2_11e9_96e5_f8cab8325e57level0_row7\" class=\"row_heading level0 row7\" >40+</th> \n",
       "        <td id=\"T_58638b6e_43c2_11e9_96e5_f8cab8325e57row7_col0\" class=\"data row7 col0\" >12</td> \n",
       "        <td id=\"T_58638b6e_43c2_11e9_96e5_f8cab8325e57row7_col1\" class=\"data row7 col1\" >2.08%</td> \n",
       "    </tr></tbody> \n",
       "</table> "
      ],
      "text/plain": [
       "<pandas.io.formats.style.Styler at 0x2273d4e4b38>"
      ]
     },
     "execution_count": 214,
     "metadata": {},
     "output_type": "execute_result"
    }
   ],
   "source": [
    "Summary_3=pd.concat([totalcountrenam,percentageplayerrenam], axis=1)\n",
    "Summary_3.rename(columns={0:\"Total_Count\",1:\"Percentage_of_Players\"}, inplace=True)\n",
    "Summary_3_format = Summary_3.style.format({\"Percentage_of_Players\":\"{:,.2f}%\".format})\n",
    "Summary_3_format"
   ]
  },
  {
   "cell_type": "markdown",
   "metadata": {},
   "source": [
    "## Age Demographics"
   ]
  },
  {
   "cell_type": "markdown",
   "metadata": {},
   "source": [
    "* Establish bins for ages\n",
    "\n",
    "\n",
    "* Categorize the existing players using the age bins. Hint: use pd.cut()\n",
    "\n",
    "\n",
    "* Calculate the numbers and percentages by age group\n",
    "\n",
    "\n",
    "* Create a summary data frame to hold the results\n",
    "\n",
    "\n",
    "* Optional: round the percentage column to two decimal points\n",
    "\n",
    "\n",
    "* Display Age Demographics Table\n"
   ]
  },
  {
   "cell_type": "code",
   "execution_count": 6,
   "metadata": {},
   "outputs": [
    {
     "data": {
      "text/html": [
       "<div>\n",
       "<style scoped>\n",
       "    .dataframe tbody tr th:only-of-type {\n",
       "        vertical-align: middle;\n",
       "    }\n",
       "\n",
       "    .dataframe tbody tr th {\n",
       "        vertical-align: top;\n",
       "    }\n",
       "\n",
       "    .dataframe thead th {\n",
       "        text-align: right;\n",
       "    }\n",
       "</style>\n",
       "<table border=\"1\" class=\"dataframe\">\n",
       "  <thead>\n",
       "    <tr style=\"text-align: right;\">\n",
       "      <th></th>\n",
       "      <th>Total Count</th>\n",
       "      <th>Percentage of Players</th>\n",
       "    </tr>\n",
       "  </thead>\n",
       "  <tbody>\n",
       "    <tr>\n",
       "      <th>&lt;10</th>\n",
       "      <td>17</td>\n",
       "      <td>2.95</td>\n",
       "    </tr>\n",
       "    <tr>\n",
       "      <th>10-14</th>\n",
       "      <td>22</td>\n",
       "      <td>3.82</td>\n",
       "    </tr>\n",
       "    <tr>\n",
       "      <th>15-19</th>\n",
       "      <td>107</td>\n",
       "      <td>18.58</td>\n",
       "    </tr>\n",
       "    <tr>\n",
       "      <th>20-24</th>\n",
       "      <td>258</td>\n",
       "      <td>44.79</td>\n",
       "    </tr>\n",
       "    <tr>\n",
       "      <th>25-29</th>\n",
       "      <td>77</td>\n",
       "      <td>13.37</td>\n",
       "    </tr>\n",
       "    <tr>\n",
       "      <th>30-34</th>\n",
       "      <td>52</td>\n",
       "      <td>9.03</td>\n",
       "    </tr>\n",
       "    <tr>\n",
       "      <th>35-39</th>\n",
       "      <td>31</td>\n",
       "      <td>5.38</td>\n",
       "    </tr>\n",
       "    <tr>\n",
       "      <th>40+</th>\n",
       "      <td>12</td>\n",
       "      <td>2.08</td>\n",
       "    </tr>\n",
       "  </tbody>\n",
       "</table>\n",
       "</div>"
      ],
      "text/plain": [
       "       Total Count  Percentage of Players\n",
       "<10             17                   2.95\n",
       "10-14           22                   3.82\n",
       "15-19          107                  18.58\n",
       "20-24          258                  44.79\n",
       "25-29           77                  13.37\n",
       "30-34           52                   9.03\n",
       "35-39           31                   5.38\n",
       "40+             12                   2.08"
      ]
     },
     "execution_count": 6,
     "metadata": {},
     "output_type": "execute_result"
    }
   ],
   "source": [
    "#DONE"
   ]
  },
  {
   "cell_type": "markdown",
   "metadata": {},
   "source": [
    "## Purchasing Analysis (Age)"
   ]
  },
  {
   "cell_type": "markdown",
   "metadata": {},
   "source": [
    "* Bin the purchase_data data frame by age\n",
    "\n",
    "\n",
    "* Run basic calculations to obtain purchase count, avg. purchase price, avg. purchase total per person etc. in the table below\n",
    "\n",
    "\n",
    "* Create a summary data frame to hold the results\n",
    "\n",
    "\n",
    "* Optional: give the displayed data cleaner formatting\n",
    "\n",
    "\n",
    "* Display the summary data frame"
   ]
  },
  {
   "cell_type": "code",
   "execution_count": 228,
   "metadata": {},
   "outputs": [
    {
     "data": {
      "text/plain": [
       "Age\n",
       "<10         32\n",
       "10 - 14     19\n",
       "15 - 19    136\n",
       "20 - 24    365\n",
       "25 - 29    101\n",
       "30 - 34     73\n",
       "35 - 39     41\n",
       "40+         13\n",
       "dtype: int64"
      ]
     },
     "execution_count": 228,
     "metadata": {},
     "output_type": "execute_result"
    }
   ],
   "source": [
    "#purchasecount=purchasecount.groupby('Purchase_ID')['Purchase_ID'].count()\n",
    "purchasecount=purchase_data_binned['Purchase_ID']\n",
    "purchasecount_renam=purchasecount.rename(columns={\"Purchase_ID\":\"Purchase_Count\"}, inplace=True)\n",
    "purchasecount_renam"
   ]
  },
  {
   "cell_type": "code",
   "execution_count": 251,
   "metadata": {},
   "outputs": [
    {
     "data": {
      "text/html": [
       "<div>\n",
       "<style scoped>\n",
       "    .dataframe tbody tr th:only-of-type {\n",
       "        vertical-align: middle;\n",
       "    }\n",
       "\n",
       "    .dataframe tbody tr th {\n",
       "        vertical-align: top;\n",
       "    }\n",
       "\n",
       "    .dataframe thead th {\n",
       "        text-align: right;\n",
       "    }\n",
       "</style>\n",
       "<table border=\"1\" class=\"dataframe\">\n",
       "  <thead>\n",
       "    <tr style=\"text-align: right;\">\n",
       "      <th></th>\n",
       "      <th>Purchase_ID</th>\n",
       "      <th>Age</th>\n",
       "      <th>Item_ID</th>\n",
       "      <th>Price</th>\n",
       "    </tr>\n",
       "    <tr>\n",
       "      <th>Age</th>\n",
       "      <th></th>\n",
       "      <th></th>\n",
       "      <th></th>\n",
       "      <th></th>\n",
       "    </tr>\n",
       "  </thead>\n",
       "  <tbody>\n",
       "    <tr>\n",
       "      <th>&lt;10</th>\n",
       "      <td>12477</td>\n",
       "      <td>271</td>\n",
       "      <td>3418</td>\n",
       "      <td>108.96</td>\n",
       "    </tr>\n",
       "    <tr>\n",
       "      <th>10 - 14</th>\n",
       "      <td>7646</td>\n",
       "      <td>229</td>\n",
       "      <td>1906</td>\n",
       "      <td>50.95</td>\n",
       "    </tr>\n",
       "    <tr>\n",
       "      <th>15 - 19</th>\n",
       "      <td>54859</td>\n",
       "      <td>2284</td>\n",
       "      <td>12798</td>\n",
       "      <td>412.89</td>\n",
       "    </tr>\n",
       "    <tr>\n",
       "      <th>20 - 24</th>\n",
       "      <td>139573</td>\n",
       "      <td>7971</td>\n",
       "      <td>32411</td>\n",
       "      <td>1114.06</td>\n",
       "    </tr>\n",
       "    <tr>\n",
       "      <th>25 - 29</th>\n",
       "      <td>41072</td>\n",
       "      <td>2626</td>\n",
       "      <td>9146</td>\n",
       "      <td>293.00</td>\n",
       "    </tr>\n",
       "    <tr>\n",
       "      <th>30 - 34</th>\n",
       "      <td>26254</td>\n",
       "      <td>2291</td>\n",
       "      <td>6875</td>\n",
       "      <td>214.00</td>\n",
       "    </tr>\n",
       "    <tr>\n",
       "      <th>35 - 39</th>\n",
       "      <td>16596</td>\n",
       "      <td>1505</td>\n",
       "      <td>4137</td>\n",
       "      <td>147.67</td>\n",
       "    </tr>\n",
       "    <tr>\n",
       "      <th>40+</th>\n",
       "      <td>5333</td>\n",
       "      <td>540</td>\n",
       "      <td>1158</td>\n",
       "      <td>38.24</td>\n",
       "    </tr>\n",
       "  </tbody>\n",
       "</table>\n",
       "</div>"
      ],
      "text/plain": [
       "         Purchase_ID   Age  Item_ID    Price\n",
       "Age                                         \n",
       "<10            12477   271     3418   108.96\n",
       "10 - 14         7646   229     1906    50.95\n",
       "15 - 19        54859  2284    12798   412.89\n",
       "20 - 24       139573  7971    32411  1114.06\n",
       "25 - 29        41072  2626     9146   293.00\n",
       "30 - 34        26254  2291     6875   214.00\n",
       "35 - 39        16596  1505     4137   147.67\n",
       "40+             5333   540     1158    38.24"
      ]
     },
     "execution_count": 251,
     "metadata": {},
     "output_type": "execute_result"
    }
   ],
   "source": [
    "bins=[0,10,14,19,24,29,34,39,50]\n",
    "labels=['<10','10 - 14','15 - 19','20 - 24','25 - 29','30 - 34','35 - 39','40+']\n",
    "#purchase_data_binned =purchase_data.groupby (pd.cut(purchase_data['Age'], bins=bins, labels=labels)).nunique()\n",
    "purchase_data_binned_totalvalue = purchase_data.groupby (pd.cut(purchase_data['Age'], bins=bins, labels=labels)).sum()\n",
    "purchase_data_binned_totalvalue"
   ]
  },
  {
   "cell_type": "code",
   "execution_count": 265,
   "metadata": {},
   "outputs": [
    {
     "data": {
      "text/plain": [
       "Age\n",
       "<10         108.96\n",
       "10 - 14      50.95\n",
       "15 - 19     412.89\n",
       "20 - 24    1114.06\n",
       "25 - 29     293.00\n",
       "30 - 34     214.00\n",
       "35 - 39     147.67\n",
       "40+          38.24\n",
       "Name: Total_Purchase_Value, dtype: float64"
      ]
     },
     "execution_count": 265,
     "metadata": {},
     "output_type": "execute_result"
    }
   ],
   "source": [
    "purchase_data_binned_totalvalue['Total_Purchase_Value']\n",
    "#purchase_data_binned_totalvalue"
   ]
  },
  {
   "cell_type": "code",
   "execution_count": 266,
   "metadata": {},
   "outputs": [],
   "source": [
    "#purchase_data_binned_totalvalue_renam=purchase_data_binned_totalvalue.rename(columns={\"Price\":\"Total_Purchase_Value\"}, inplace=True)\n",
    "#purchase_data_binned_totalvalue_renam"
   ]
  },
  {
   "cell_type": "code",
   "execution_count": 280,
   "metadata": {},
   "outputs": [
    {
     "data": {
      "text/plain": [
       "Age\n",
       "<10        3.405000\n",
       "10 - 14    2.681579\n",
       "15 - 19    3.035956\n",
       "20 - 24    3.052219\n",
       "25 - 29    2.900990\n",
       "30 - 34    2.931507\n",
       "35 - 39    3.601707\n",
       "40+        2.941538\n",
       "Name: Price, dtype: float64"
      ]
     },
     "execution_count": 280,
     "metadata": {},
     "output_type": "execute_result"
    }
   ],
   "source": [
    "purchase_data_binned_avg = purchase_data.groupby (pd.cut(purchase_data['Age'], bins=bins, labels=labels)).mean()\n",
    "#purchase_data_binned_avg_renam=purchase_data_binned_avg.rename(columns={\"Price\":\"Avg_Purchase_Price\"}, inplace=True)\n",
    "#purchase_data_binned_avg_renam\n",
    "purchase_data_binned_avg['Price']"
   ]
  },
  {
   "cell_type": "code",
   "execution_count": 276,
   "metadata": {},
   "outputs": [
    {
     "data": {
      "text/plain": [
       "Age\n",
       "<10        4.540000\n",
       "10 - 14    3.396667\n",
       "15 - 19    3.858785\n",
       "20 - 24    4.318062\n",
       "25 - 29    3.805195\n",
       "30 - 34    4.115385\n",
       "35 - 39    4.763548\n",
       "40+        3.186667\n",
       "dtype: float64"
      ]
     },
     "execution_count": 276,
     "metadata": {},
     "output_type": "execute_result"
    }
   ],
   "source": [
    "AvgPurchasetotalperperson = purchase_data_binned_totalvalue['Total_Purchase_Value']/purchase_data_binned[\"Player\"]\n",
    "AvgPurchasetotalperperson"
   ]
  },
  {
   "cell_type": "code",
   "execution_count": 285,
   "metadata": {},
   "outputs": [
    {
     "data": {
      "text/html": [
       "<style  type=\"text/css\" >\n",
       "</style>  \n",
       "<table id=\"T_1423839c_43cd_11e9_82d9_f8cab8325e57\" > \n",
       "<thead>    <tr> \n",
       "        <th class=\"blank level0\" ></th> \n",
       "        <th class=\"col_heading level0 col0\" >Purchase_Count</th> \n",
       "        <th class=\"col_heading level0 col1\" >Avg_Purchase_Price</th> \n",
       "        <th class=\"col_heading level0 col2\" >Total_Purchase_Value</th> \n",
       "        <th class=\"col_heading level0 col3\" >Avg_Total_Purchase_per_Person</th> \n",
       "    </tr>    <tr> \n",
       "        <th class=\"index_name level0\" >Age</th> \n",
       "        <th class=\"blank\" ></th> \n",
       "        <th class=\"blank\" ></th> \n",
       "        <th class=\"blank\" ></th> \n",
       "        <th class=\"blank\" ></th> \n",
       "    </tr></thead> \n",
       "<tbody>    <tr> \n",
       "        <th id=\"T_1423839c_43cd_11e9_82d9_f8cab8325e57level0_row0\" class=\"row_heading level0 row0\" ><10</th> \n",
       "        <td id=\"T_1423839c_43cd_11e9_82d9_f8cab8325e57row0_col0\" class=\"data row0 col0\" >32</td> \n",
       "        <td id=\"T_1423839c_43cd_11e9_82d9_f8cab8325e57row0_col1\" class=\"data row0 col1\" >$3.40</td> \n",
       "        <td id=\"T_1423839c_43cd_11e9_82d9_f8cab8325e57row0_col2\" class=\"data row0 col2\" >$108.96</td> \n",
       "        <td id=\"T_1423839c_43cd_11e9_82d9_f8cab8325e57row0_col3\" class=\"data row0 col3\" >$4.54</td> \n",
       "    </tr>    <tr> \n",
       "        <th id=\"T_1423839c_43cd_11e9_82d9_f8cab8325e57level0_row1\" class=\"row_heading level0 row1\" >10 - 14</th> \n",
       "        <td id=\"T_1423839c_43cd_11e9_82d9_f8cab8325e57row1_col0\" class=\"data row1 col0\" >19</td> \n",
       "        <td id=\"T_1423839c_43cd_11e9_82d9_f8cab8325e57row1_col1\" class=\"data row1 col1\" >$2.68</td> \n",
       "        <td id=\"T_1423839c_43cd_11e9_82d9_f8cab8325e57row1_col2\" class=\"data row1 col2\" >$50.95</td> \n",
       "        <td id=\"T_1423839c_43cd_11e9_82d9_f8cab8325e57row1_col3\" class=\"data row1 col3\" >$3.40</td> \n",
       "    </tr>    <tr> \n",
       "        <th id=\"T_1423839c_43cd_11e9_82d9_f8cab8325e57level0_row2\" class=\"row_heading level0 row2\" >15 - 19</th> \n",
       "        <td id=\"T_1423839c_43cd_11e9_82d9_f8cab8325e57row2_col0\" class=\"data row2 col0\" >136</td> \n",
       "        <td id=\"T_1423839c_43cd_11e9_82d9_f8cab8325e57row2_col1\" class=\"data row2 col1\" >$3.04</td> \n",
       "        <td id=\"T_1423839c_43cd_11e9_82d9_f8cab8325e57row2_col2\" class=\"data row2 col2\" >$412.89</td> \n",
       "        <td id=\"T_1423839c_43cd_11e9_82d9_f8cab8325e57row2_col3\" class=\"data row2 col3\" >$3.86</td> \n",
       "    </tr>    <tr> \n",
       "        <th id=\"T_1423839c_43cd_11e9_82d9_f8cab8325e57level0_row3\" class=\"row_heading level0 row3\" >20 - 24</th> \n",
       "        <td id=\"T_1423839c_43cd_11e9_82d9_f8cab8325e57row3_col0\" class=\"data row3 col0\" >365</td> \n",
       "        <td id=\"T_1423839c_43cd_11e9_82d9_f8cab8325e57row3_col1\" class=\"data row3 col1\" >$3.05</td> \n",
       "        <td id=\"T_1423839c_43cd_11e9_82d9_f8cab8325e57row3_col2\" class=\"data row3 col2\" >$1,114.06</td> \n",
       "        <td id=\"T_1423839c_43cd_11e9_82d9_f8cab8325e57row3_col3\" class=\"data row3 col3\" >$4.32</td> \n",
       "    </tr>    <tr> \n",
       "        <th id=\"T_1423839c_43cd_11e9_82d9_f8cab8325e57level0_row4\" class=\"row_heading level0 row4\" >25 - 29</th> \n",
       "        <td id=\"T_1423839c_43cd_11e9_82d9_f8cab8325e57row4_col0\" class=\"data row4 col0\" >101</td> \n",
       "        <td id=\"T_1423839c_43cd_11e9_82d9_f8cab8325e57row4_col1\" class=\"data row4 col1\" >$2.90</td> \n",
       "        <td id=\"T_1423839c_43cd_11e9_82d9_f8cab8325e57row4_col2\" class=\"data row4 col2\" >$293.00</td> \n",
       "        <td id=\"T_1423839c_43cd_11e9_82d9_f8cab8325e57row4_col3\" class=\"data row4 col3\" >$3.81</td> \n",
       "    </tr>    <tr> \n",
       "        <th id=\"T_1423839c_43cd_11e9_82d9_f8cab8325e57level0_row5\" class=\"row_heading level0 row5\" >30 - 34</th> \n",
       "        <td id=\"T_1423839c_43cd_11e9_82d9_f8cab8325e57row5_col0\" class=\"data row5 col0\" >73</td> \n",
       "        <td id=\"T_1423839c_43cd_11e9_82d9_f8cab8325e57row5_col1\" class=\"data row5 col1\" >$2.93</td> \n",
       "        <td id=\"T_1423839c_43cd_11e9_82d9_f8cab8325e57row5_col2\" class=\"data row5 col2\" >$214.00</td> \n",
       "        <td id=\"T_1423839c_43cd_11e9_82d9_f8cab8325e57row5_col3\" class=\"data row5 col3\" >$4.12</td> \n",
       "    </tr>    <tr> \n",
       "        <th id=\"T_1423839c_43cd_11e9_82d9_f8cab8325e57level0_row6\" class=\"row_heading level0 row6\" >35 - 39</th> \n",
       "        <td id=\"T_1423839c_43cd_11e9_82d9_f8cab8325e57row6_col0\" class=\"data row6 col0\" >41</td> \n",
       "        <td id=\"T_1423839c_43cd_11e9_82d9_f8cab8325e57row6_col1\" class=\"data row6 col1\" >$3.60</td> \n",
       "        <td id=\"T_1423839c_43cd_11e9_82d9_f8cab8325e57row6_col2\" class=\"data row6 col2\" >$147.67</td> \n",
       "        <td id=\"T_1423839c_43cd_11e9_82d9_f8cab8325e57row6_col3\" class=\"data row6 col3\" >$4.76</td> \n",
       "    </tr>    <tr> \n",
       "        <th id=\"T_1423839c_43cd_11e9_82d9_f8cab8325e57level0_row7\" class=\"row_heading level0 row7\" >40+</th> \n",
       "        <td id=\"T_1423839c_43cd_11e9_82d9_f8cab8325e57row7_col0\" class=\"data row7 col0\" >13</td> \n",
       "        <td id=\"T_1423839c_43cd_11e9_82d9_f8cab8325e57row7_col1\" class=\"data row7 col1\" >$2.94</td> \n",
       "        <td id=\"T_1423839c_43cd_11e9_82d9_f8cab8325e57row7_col2\" class=\"data row7 col2\" >$38.24</td> \n",
       "        <td id=\"T_1423839c_43cd_11e9_82d9_f8cab8325e57row7_col3\" class=\"data row7 col3\" >$3.19</td> \n",
       "    </tr></tbody> \n",
       "</table> "
      ],
      "text/plain": [
       "<pandas.io.formats.style.Styler at 0x2273d5a0e48>"
      ]
     },
     "execution_count": 285,
     "metadata": {},
     "output_type": "execute_result"
    }
   ],
   "source": [
    "Summary_4=pd.concat([purchasecount_renam,purchase_data_binned_avg['Price'],purchase_data_binned_totalvalue['Total_Purchase_Value'],AvgPurchasetotalperperson], axis=1)\n",
    "Summary_4.rename(columns={0:\"Purchase_Count\",'Price':'Avg_Purchase_Price',1:\"Avg_Total_Purchase_per_Person\"}, inplace=True)\n",
    "Summary_4_format = Summary_4.style.format({\"Avg_Purchase_Price\":\"${:,.2f}\".format,\"Total_Purchase_Value\":\"${:,.2f}\".format,\"Avg_Total_Purchase_per_Person\":\"${:,.2f}\".format})\n",
    "Summary_4_format"
   ]
  },
  {
   "cell_type": "code",
   "execution_count": 287,
   "metadata": {},
   "outputs": [],
   "source": [
    "#summary_4sort=Summary_4_format.sort_values('Age',ascending=False)"
   ]
  },
  {
   "cell_type": "code",
   "execution_count": 7,
   "metadata": {},
   "outputs": [
    {
     "data": {
      "text/html": [
       "<div>\n",
       "<table border=\"1\" class=\"dataframe\">\n",
       "  <thead>\n",
       "    <tr style=\"text-align: right;\">\n",
       "      <th></th>\n",
       "      <th>Purchase Count</th>\n",
       "      <th>Average Purchase Price</th>\n",
       "      <th>Total Purchase Value</th>\n",
       "      <th>Avg Total Purchase per Person</th>\n",
       "    </tr>\n",
       "  </thead>\n",
       "  <tbody>\n",
       "    <tr>\n",
       "      <th>10-14</th>\n",
       "      <td>28</td>\n",
       "      <td>$2.96</td>\n",
       "      <td>$82.78</td>\n",
       "      <td>$3.76</td>\n",
       "    </tr>\n",
       "    <tr>\n",
       "      <th>15-19</th>\n",
       "      <td>136</td>\n",
       "      <td>$3.04</td>\n",
       "      <td>$412.89</td>\n",
       "      <td>$3.86</td>\n",
       "    </tr>\n",
       "    <tr>\n",
       "      <th>20-24</th>\n",
       "      <td>365</td>\n",
       "      <td>$3.05</td>\n",
       "      <td>$1,114.06</td>\n",
       "      <td>$4.32</td>\n",
       "    </tr>\n",
       "    <tr>\n",
       "      <th>25-29</th>\n",
       "      <td>101</td>\n",
       "      <td>$2.90</td>\n",
       "      <td>$293.00</td>\n",
       "      <td>$3.81</td>\n",
       "    </tr>\n",
       "    <tr>\n",
       "      <th>30-34</th>\n",
       "      <td>73</td>\n",
       "      <td>$2.93</td>\n",
       "      <td>$214.00</td>\n",
       "      <td>$4.12</td>\n",
       "    </tr>\n",
       "    <tr>\n",
       "      <th>35-39</th>\n",
       "      <td>41</td>\n",
       "      <td>$3.60</td>\n",
       "      <td>$147.67</td>\n",
       "      <td>$4.76</td>\n",
       "    </tr>\n",
       "    <tr>\n",
       "      <th>40+</th>\n",
       "      <td>13</td>\n",
       "      <td>$2.94</td>\n",
       "      <td>$38.24</td>\n",
       "      <td>$3.19</td>\n",
       "    </tr>\n",
       "    <tr>\n",
       "      <th>&lt;10</th>\n",
       "      <td>23</td>\n",
       "      <td>$3.35</td>\n",
       "      <td>$77.13</td>\n",
       "      <td>$4.54</td>\n",
       "    </tr>\n",
       "  </tbody>\n",
       "</table>\n",
       "</div>"
      ],
      "text/plain": [
       "      Purchase Count Average Purchase Price Total Purchase Value  \\\n",
       "10-14             28                  $2.96               $82.78   \n",
       "15-19            136                  $3.04              $412.89   \n",
       "20-24            365                  $3.05            $1,114.06   \n",
       "25-29            101                  $2.90              $293.00   \n",
       "30-34             73                  $2.93              $214.00   \n",
       "35-39             41                  $3.60              $147.67   \n",
       "40+               13                  $2.94               $38.24   \n",
       "<10               23                  $3.35               $77.13   \n",
       "\n",
       "      Avg Total Purchase per Person  \n",
       "10-14                         $3.76  \n",
       "15-19                         $3.86  \n",
       "20-24                         $4.32  \n",
       "25-29                         $3.81  \n",
       "30-34                         $4.12  \n",
       "35-39                         $4.76  \n",
       "40+                           $3.19  \n",
       "<10                           $4.54  "
      ]
     },
     "execution_count": 7,
     "metadata": {},
     "output_type": "execute_result"
    }
   ],
   "source": []
  },
  {
   "cell_type": "markdown",
   "metadata": {},
   "source": [
    "## Top Spenders"
   ]
  },
  {
   "cell_type": "markdown",
   "metadata": {},
   "source": [
    "* Run basic calculations to obtain the results in the table below\n",
    "\n",
    "\n",
    "* Create a summary data frame to hold the results\n",
    "\n",
    "\n",
    "* Sort the total purchase value column in descending order\n",
    "\n",
    "\n",
    "* Optional: give the displayed data cleaner formatting\n",
    "\n",
    "\n",
    "* Display a preview of the summary data frame\n",
    "\n"
   ]
  },
  {
   "cell_type": "code",
   "execution_count": 288,
   "metadata": {},
   "outputs": [
    {
     "data": {
      "text/html": [
       "<div>\n",
       "<style scoped>\n",
       "    .dataframe tbody tr th:only-of-type {\n",
       "        vertical-align: middle;\n",
       "    }\n",
       "\n",
       "    .dataframe tbody tr th {\n",
       "        vertical-align: top;\n",
       "    }\n",
       "\n",
       "    .dataframe thead th {\n",
       "        text-align: right;\n",
       "    }\n",
       "</style>\n",
       "<table border=\"1\" class=\"dataframe\">\n",
       "  <thead>\n",
       "    <tr style=\"text-align: right;\">\n",
       "      <th></th>\n",
       "      <th>Purchase_ID</th>\n",
       "      <th>Player</th>\n",
       "      <th>Age</th>\n",
       "      <th>Gender</th>\n",
       "      <th>Item_ID</th>\n",
       "      <th>Item_Name</th>\n",
       "      <th>Price</th>\n",
       "    </tr>\n",
       "  </thead>\n",
       "  <tbody>\n",
       "    <tr>\n",
       "      <th>0</th>\n",
       "      <td>0</td>\n",
       "      <td>Lisim78</td>\n",
       "      <td>20</td>\n",
       "      <td>Male</td>\n",
       "      <td>108</td>\n",
       "      <td>Extraction, Quickblade Of Trembling Hands</td>\n",
       "      <td>3.53</td>\n",
       "    </tr>\n",
       "    <tr>\n",
       "      <th>1</th>\n",
       "      <td>1</td>\n",
       "      <td>Lisovynya38</td>\n",
       "      <td>40</td>\n",
       "      <td>Male</td>\n",
       "      <td>143</td>\n",
       "      <td>Frenzied Scimitar</td>\n",
       "      <td>1.56</td>\n",
       "    </tr>\n",
       "    <tr>\n",
       "      <th>2</th>\n",
       "      <td>2</td>\n",
       "      <td>Ithergue48</td>\n",
       "      <td>24</td>\n",
       "      <td>Male</td>\n",
       "      <td>92</td>\n",
       "      <td>Final Critic</td>\n",
       "      <td>4.88</td>\n",
       "    </tr>\n",
       "    <tr>\n",
       "      <th>3</th>\n",
       "      <td>3</td>\n",
       "      <td>Chamassasya86</td>\n",
       "      <td>24</td>\n",
       "      <td>Male</td>\n",
       "      <td>100</td>\n",
       "      <td>Blindscythe</td>\n",
       "      <td>3.27</td>\n",
       "    </tr>\n",
       "    <tr>\n",
       "      <th>4</th>\n",
       "      <td>4</td>\n",
       "      <td>Iskosia90</td>\n",
       "      <td>23</td>\n",
       "      <td>Male</td>\n",
       "      <td>131</td>\n",
       "      <td>Fury</td>\n",
       "      <td>1.44</td>\n",
       "    </tr>\n",
       "  </tbody>\n",
       "</table>\n",
       "</div>"
      ],
      "text/plain": [
       "   Purchase_ID         Player  Age Gender  Item_ID  \\\n",
       "0            0        Lisim78   20   Male      108   \n",
       "1            1    Lisovynya38   40   Male      143   \n",
       "2            2     Ithergue48   24   Male       92   \n",
       "3            3  Chamassasya86   24   Male      100   \n",
       "4            4      Iskosia90   23   Male      131   \n",
       "\n",
       "                                   Item_Name  Price  \n",
       "0  Extraction, Quickblade Of Trembling Hands   3.53  \n",
       "1                          Frenzied Scimitar   1.56  \n",
       "2                               Final Critic   4.88  \n",
       "3                                Blindscythe   3.27  \n",
       "4                                       Fury   1.44  "
      ]
     },
     "execution_count": 288,
     "metadata": {},
     "output_type": "execute_result"
    }
   ],
   "source": [
    "purchase_data.head()"
   ]
  },
  {
   "cell_type": "code",
   "execution_count": 293,
   "metadata": {},
   "outputs": [
    {
     "data": {
      "text/plain": [
       "Player\n",
       "Adairialis76    1\n",
       "Adastirin33     1\n",
       "Aeda94          1\n",
       "Aela59          1\n",
       "Aelaria33       1\n",
       "Name: Purchase_ID, dtype: int64"
      ]
     },
     "execution_count": 293,
     "metadata": {},
     "output_type": "execute_result"
    }
   ],
   "source": [
    "SNpurchasecount=purchase_data.groupby('Player')[\"Purchase_ID\"].count()\n",
    "SNpurchasecount.head()"
   ]
  },
  {
   "cell_type": "code",
   "execution_count": 294,
   "metadata": {},
   "outputs": [
    {
     "data": {
      "text/plain": [
       "Player\n",
       "Adairialis76    2.28\n",
       "Adastirin33     4.48\n",
       "Aeda94          4.91\n",
       "Aela59          4.32\n",
       "Aelaria33       1.79\n",
       "Name: Price, dtype: float64"
      ]
     },
     "execution_count": 294,
     "metadata": {},
     "output_type": "execute_result"
    }
   ],
   "source": [
    "SNavgpurchaseprice=purchase_data.groupby('Player')[\"Price\"].mean()\n",
    "SNavgpurchaseprice.head()"
   ]
  },
  {
   "cell_type": "code",
   "execution_count": 297,
   "metadata": {},
   "outputs": [
    {
     "data": {
      "text/plain": [
       "Player\n",
       "Adairialis76    2.28\n",
       "Adastirin33     4.48\n",
       "Aeda94          4.91\n",
       "Aela59          4.32\n",
       "Aelaria33       1.79\n",
       "dtype: float64"
      ]
     },
     "execution_count": 297,
     "metadata": {},
     "output_type": "execute_result"
    }
   ],
   "source": [
    "SNtotalpurchasevalue=purchase_data.groupby('Player')[\"Price\"].sum()\n",
    "SNtotalpurchasevalue.rename(columns={'Price':'Avg_Purchase_Price'}, inplace=True)\n",
    "SNtotalpurchasevalue.head()"
   ]
  },
  {
   "cell_type": "code",
   "execution_count": 305,
   "metadata": {},
   "outputs": [
    {
     "data": {
      "text/html": [
       "<style  type=\"text/css\" >\n",
       "</style>  \n",
       "<table id=\"T_d1fdd76c_43d3_11e9_a2b7_f8cab8325e57\" > \n",
       "<thead>    <tr> \n",
       "        <th class=\"blank level0\" ></th> \n",
       "        <th class=\"col_heading level0 col0\" >Purchase_Count</th> \n",
       "        <th class=\"col_heading level0 col1\" >Avg_Purchase_Price</th> \n",
       "        <th class=\"col_heading level0 col2\" >Total_Purchase_Value</th> \n",
       "    </tr>    <tr> \n",
       "        <th class=\"index_name level0\" >Player</th> \n",
       "        <th class=\"blank\" ></th> \n",
       "        <th class=\"blank\" ></th> \n",
       "        <th class=\"blank\" ></th> \n",
       "    </tr></thead> \n",
       "<tbody>    <tr> \n",
       "        <th id=\"T_d1fdd76c_43d3_11e9_a2b7_f8cab8325e57level0_row0\" class=\"row_heading level0 row0\" >Lisosia93</th> \n",
       "        <td id=\"T_d1fdd76c_43d3_11e9_a2b7_f8cab8325e57row0_col0\" class=\"data row0 col0\" >5</td> \n",
       "        <td id=\"T_d1fdd76c_43d3_11e9_a2b7_f8cab8325e57row0_col1\" class=\"data row0 col1\" >$3.79</td> \n",
       "        <td id=\"T_d1fdd76c_43d3_11e9_a2b7_f8cab8325e57row0_col2\" class=\"data row0 col2\" >$18.96</td> \n",
       "    </tr>    <tr> \n",
       "        <th id=\"T_d1fdd76c_43d3_11e9_a2b7_f8cab8325e57level0_row1\" class=\"row_heading level0 row1\" >Idastidru52</th> \n",
       "        <td id=\"T_d1fdd76c_43d3_11e9_a2b7_f8cab8325e57row1_col0\" class=\"data row1 col0\" >4</td> \n",
       "        <td id=\"T_d1fdd76c_43d3_11e9_a2b7_f8cab8325e57row1_col1\" class=\"data row1 col1\" >$3.86</td> \n",
       "        <td id=\"T_d1fdd76c_43d3_11e9_a2b7_f8cab8325e57row1_col2\" class=\"data row1 col2\" >$15.45</td> \n",
       "    </tr>    <tr> \n",
       "        <th id=\"T_d1fdd76c_43d3_11e9_a2b7_f8cab8325e57level0_row2\" class=\"row_heading level0 row2\" >Chamjask73</th> \n",
       "        <td id=\"T_d1fdd76c_43d3_11e9_a2b7_f8cab8325e57row2_col0\" class=\"data row2 col0\" >3</td> \n",
       "        <td id=\"T_d1fdd76c_43d3_11e9_a2b7_f8cab8325e57row2_col1\" class=\"data row2 col1\" >$4.61</td> \n",
       "        <td id=\"T_d1fdd76c_43d3_11e9_a2b7_f8cab8325e57row2_col2\" class=\"data row2 col2\" >$13.83</td> \n",
       "    </tr>    <tr> \n",
       "        <th id=\"T_d1fdd76c_43d3_11e9_a2b7_f8cab8325e57level0_row3\" class=\"row_heading level0 row3\" >Iral74</th> \n",
       "        <td id=\"T_d1fdd76c_43d3_11e9_a2b7_f8cab8325e57row3_col0\" class=\"data row3 col0\" >4</td> \n",
       "        <td id=\"T_d1fdd76c_43d3_11e9_a2b7_f8cab8325e57row3_col1\" class=\"data row3 col1\" >$3.40</td> \n",
       "        <td id=\"T_d1fdd76c_43d3_11e9_a2b7_f8cab8325e57row3_col2\" class=\"data row3 col2\" >$13.62</td> \n",
       "    </tr>    <tr> \n",
       "        <th id=\"T_d1fdd76c_43d3_11e9_a2b7_f8cab8325e57level0_row4\" class=\"row_heading level0 row4\" >Iskadarya95</th> \n",
       "        <td id=\"T_d1fdd76c_43d3_11e9_a2b7_f8cab8325e57row4_col0\" class=\"data row4 col0\" >3</td> \n",
       "        <td id=\"T_d1fdd76c_43d3_11e9_a2b7_f8cab8325e57row4_col1\" class=\"data row4 col1\" >$4.37</td> \n",
       "        <td id=\"T_d1fdd76c_43d3_11e9_a2b7_f8cab8325e57row4_col2\" class=\"data row4 col2\" >$13.10</td> \n",
       "    </tr></tbody> \n",
       "</table> "
      ],
      "text/plain": [
       "<pandas.io.formats.style.Styler at 0x2273e8fb908>"
      ]
     },
     "execution_count": 305,
     "metadata": {},
     "output_type": "execute_result"
    }
   ],
   "source": [
    "Summary_5=pd.concat([SNpurchasecount,SNavgpurchaseprice,SNtotalpurchasevalue], axis=1)\n",
    "Summary_5.rename(columns={'Purchase_ID':\"Purchase_Count\",'Price':'Avg_Purchase_Price',0:\"Total_Purchase_Value\"}, inplace=True)\n",
    "Summary_5sort=Summary_5.sort_values('Total_Purchase_Value',ascending=False).head()\n",
    "Summary_5_format = Summary_5sort.style.format({\"Avg_Purchase_Price\":\"${:,.2f}\".format,\"Total_Purchase_Value\":\"${:,.2f}\".format})\n",
    "Summary_5_format"
   ]
  },
  {
   "cell_type": "code",
   "execution_count": 8,
   "metadata": {},
   "outputs": [
    {
     "data": {
      "text/html": [
       "<div>\n",
       "<table border=\"1\" class=\"dataframe\">\n",
       "  <thead>\n",
       "    <tr style=\"text-align: right;\">\n",
       "      <th></th>\n",
       "      <th>Purchase Count</th>\n",
       "      <th>Average Purchase Price</th>\n",
       "      <th>Total Purchase Value</th>\n",
       "    </tr>\n",
       "    <tr>\n",
       "      <th>SN</th>\n",
       "      <th></th>\n",
       "      <th></th>\n",
       "      <th></th>\n",
       "    </tr>\n",
       "  </thead>\n",
       "  <tbody>\n",
       "    <tr>\n",
       "      <th>Lisosia93</th>\n",
       "      <td>5</td>\n",
       "      <td>$3.79</td>\n",
       "      <td>$18.96</td>\n",
       "    </tr>\n",
       "    <tr>\n",
       "      <th>Idastidru52</th>\n",
       "      <td>4</td>\n",
       "      <td>$3.86</td>\n",
       "      <td>$15.45</td>\n",
       "    </tr>\n",
       "    <tr>\n",
       "      <th>Chamjask73</th>\n",
       "      <td>3</td>\n",
       "      <td>$4.61</td>\n",
       "      <td>$13.83</td>\n",
       "    </tr>\n",
       "    <tr>\n",
       "      <th>Iral74</th>\n",
       "      <td>4</td>\n",
       "      <td>$3.40</td>\n",
       "      <td>$13.62</td>\n",
       "    </tr>\n",
       "    <tr>\n",
       "      <th>Iskadarya95</th>\n",
       "      <td>3</td>\n",
       "      <td>$4.37</td>\n",
       "      <td>$13.10</td>\n",
       "    </tr>\n",
       "  </tbody>\n",
       "</table>\n",
       "</div>"
      ],
      "text/plain": [
       "             Purchase Count Average Purchase Price Total Purchase Value\n",
       "SN                                                                     \n",
       "Lisosia93                 5                  $3.79               $18.96\n",
       "Idastidru52               4                  $3.86               $15.45\n",
       "Chamjask73                3                  $4.61               $13.83\n",
       "Iral74                    4                  $3.40               $13.62\n",
       "Iskadarya95               3                  $4.37               $13.10"
      ]
     },
     "execution_count": 8,
     "metadata": {},
     "output_type": "execute_result"
    }
   ],
   "source": []
  },
  {
   "cell_type": "code",
   "execution_count": null,
   "metadata": {},
   "outputs": [],
   "source": []
  },
  {
   "cell_type": "markdown",
   "metadata": {},
   "source": [
    "## Most Popular Items"
   ]
  },
  {
   "cell_type": "markdown",
   "metadata": {},
   "source": [
    "* Retrieve the Item ID, Item Name, and Item Price columns\n",
    "\n",
    "\n",
    "* Group by Item ID and Item Name. Perform calculations to obtain purchase count, item price, and total purchase value\n",
    "\n",
    "\n",
    "* Create a summary data frame to hold the results\n",
    "\n",
    "\n",
    "* Sort the purchase count column in descending order\n",
    "\n",
    "\n",
    "* Optional: give the displayed data cleaner formatting\n",
    "\n",
    "\n",
    "* Display a preview of the summary data frame\n",
    "\n"
   ]
  },
  {
   "cell_type": "code",
   "execution_count": 322,
   "metadata": {},
   "outputs": [
    {
     "data": {
      "text/plain": [
       "Item_ID  Item_Name         \n",
       "0        Splinter              4\n",
       "1        Crucifer              3\n",
       "2        Verdict               6\n",
       "3        Phantomlight          6\n",
       "4        Bloodlord's Fetish    5\n",
       "Name: Purchase_ID, dtype: int64"
      ]
     },
     "execution_count": 322,
     "metadata": {},
     "output_type": "execute_result"
    }
   ],
   "source": [
    "MPtotalpurchasecount=purchase_data.groupby(['Item_ID','Item_Name'])['Purchase_ID'].count()\n",
    "MPtotalpurchasecount.head()"
   ]
  },
  {
   "cell_type": "code",
   "execution_count": null,
   "metadata": {},
   "outputs": [],
   "source": []
  },
  {
   "cell_type": "code",
   "execution_count": 314,
   "metadata": {},
   "outputs": [
    {
     "data": {
      "text/plain": [
       "Item_ID  Item_Name         \n",
       "0        Splinter              1.28\n",
       "1        Crucifer              3.26\n",
       "2        Verdict               2.48\n",
       "3        Phantomlight          2.49\n",
       "4        Bloodlord's Fetish    1.70\n",
       "Name: Price, dtype: float64"
      ]
     },
     "execution_count": 314,
     "metadata": {},
     "output_type": "execute_result"
    }
   ],
   "source": [
    "MPitemprice=purchase_data.groupby(['Item_ID','Item_Name'])['Price'].mean()\n",
    "MPitemprice.head()"
   ]
  },
  {
   "cell_type": "code",
   "execution_count": 316,
   "metadata": {},
   "outputs": [
    {
     "data": {
      "text/plain": [
       "Item_ID  Item_Name         \n",
       "0        Splinter               5.12\n",
       "1        Crucifer               9.78\n",
       "2        Verdict               14.88\n",
       "3        Phantomlight          14.94\n",
       "4        Bloodlord's Fetish     8.50\n",
       "dtype: float64"
      ]
     },
     "execution_count": 316,
     "metadata": {},
     "output_type": "execute_result"
    }
   ],
   "source": [
    "MPtotalpurchasevalue=purchase_data.groupby(['Item_ID','Item_Name'])['Price'].sum()\n",
    "MPtotalpurchasevalue.rename(columns={'Price':'Total_Purchase_Value'}, inplace=True)\n",
    "MPtotalpurchasevalue.head()"
   ]
  },
  {
   "cell_type": "code",
   "execution_count": 329,
   "metadata": {},
   "outputs": [
    {
     "data": {
      "text/html": [
       "<style  type=\"text/css\" >\n",
       "</style>  \n",
       "<table id=\"T_41dc3bb0_43d8_11e9_a7d2_f8cab8325e57\" > \n",
       "<thead>    <tr> \n",
       "        <th class=\"blank\" ></th> \n",
       "        <th class=\"blank level0\" ></th> \n",
       "        <th class=\"col_heading level0 col0\" >Purchase_Count</th> \n",
       "        <th class=\"col_heading level0 col1\" >Iteam_Price</th> \n",
       "        <th class=\"col_heading level0 col2\" >Total_Purchase_Value</th> \n",
       "    </tr>    <tr> \n",
       "        <th class=\"index_name level0\" >Item_ID</th> \n",
       "        <th class=\"index_name level1\" >Item_Name</th> \n",
       "        <th class=\"blank\" ></th> \n",
       "        <th class=\"blank\" ></th> \n",
       "        <th class=\"blank\" ></th> \n",
       "    </tr></thead> \n",
       "<tbody>    <tr> \n",
       "        <th id=\"T_41dc3bb0_43d8_11e9_a7d2_f8cab8325e57level0_row0\" class=\"row_heading level0 row0\" >178</th> \n",
       "        <th id=\"T_41dc3bb0_43d8_11e9_a7d2_f8cab8325e57level1_row0\" class=\"row_heading level1 row0\" >Oathbreaker, Last Hope of the Breaking Storm</th> \n",
       "        <td id=\"T_41dc3bb0_43d8_11e9_a7d2_f8cab8325e57row0_col0\" class=\"data row0 col0\" >12</td> \n",
       "        <td id=\"T_41dc3bb0_43d8_11e9_a7d2_f8cab8325e57row0_col1\" class=\"data row0 col1\" >4.23</td> \n",
       "        <td id=\"T_41dc3bb0_43d8_11e9_a7d2_f8cab8325e57row0_col2\" class=\"data row0 col2\" >$50.76</td> \n",
       "    </tr>    <tr> \n",
       "        <th id=\"T_41dc3bb0_43d8_11e9_a7d2_f8cab8325e57level0_row1\" class=\"row_heading level0 row1\" >145</th> \n",
       "        <th id=\"T_41dc3bb0_43d8_11e9_a7d2_f8cab8325e57level1_row1\" class=\"row_heading level1 row1\" >Fiery Glass Crusader</th> \n",
       "        <td id=\"T_41dc3bb0_43d8_11e9_a7d2_f8cab8325e57row1_col0\" class=\"data row1 col0\" >9</td> \n",
       "        <td id=\"T_41dc3bb0_43d8_11e9_a7d2_f8cab8325e57row1_col1\" class=\"data row1 col1\" >4.58</td> \n",
       "        <td id=\"T_41dc3bb0_43d8_11e9_a7d2_f8cab8325e57row1_col2\" class=\"data row1 col2\" >$41.22</td> \n",
       "    </tr>    <tr> \n",
       "        <th id=\"T_41dc3bb0_43d8_11e9_a7d2_f8cab8325e57level0_row2\" class=\"row_heading level0 row2\" >108</th> \n",
       "        <th id=\"T_41dc3bb0_43d8_11e9_a7d2_f8cab8325e57level1_row2\" class=\"row_heading level1 row2\" >Extraction, Quickblade Of Trembling Hands</th> \n",
       "        <td id=\"T_41dc3bb0_43d8_11e9_a7d2_f8cab8325e57row2_col0\" class=\"data row2 col0\" >9</td> \n",
       "        <td id=\"T_41dc3bb0_43d8_11e9_a7d2_f8cab8325e57row2_col1\" class=\"data row2 col1\" >3.53</td> \n",
       "        <td id=\"T_41dc3bb0_43d8_11e9_a7d2_f8cab8325e57row2_col2\" class=\"data row2 col2\" >$31.77</td> \n",
       "    </tr>    <tr> \n",
       "        <th id=\"T_41dc3bb0_43d8_11e9_a7d2_f8cab8325e57level0_row3\" class=\"row_heading level0 row3\" >82</th> \n",
       "        <th id=\"T_41dc3bb0_43d8_11e9_a7d2_f8cab8325e57level1_row3\" class=\"row_heading level1 row3\" >Nirvana</th> \n",
       "        <td id=\"T_41dc3bb0_43d8_11e9_a7d2_f8cab8325e57row3_col0\" class=\"data row3 col0\" >9</td> \n",
       "        <td id=\"T_41dc3bb0_43d8_11e9_a7d2_f8cab8325e57row3_col1\" class=\"data row3 col1\" >4.9</td> \n",
       "        <td id=\"T_41dc3bb0_43d8_11e9_a7d2_f8cab8325e57row3_col2\" class=\"data row3 col2\" >$44.10</td> \n",
       "    </tr>    <tr> \n",
       "        <th id=\"T_41dc3bb0_43d8_11e9_a7d2_f8cab8325e57level0_row4\" class=\"row_heading level0 row4\" >19</th> \n",
       "        <th id=\"T_41dc3bb0_43d8_11e9_a7d2_f8cab8325e57level1_row4\" class=\"row_heading level1 row4\" >Pursuit, Cudgel of Necromancy</th> \n",
       "        <td id=\"T_41dc3bb0_43d8_11e9_a7d2_f8cab8325e57row4_col0\" class=\"data row4 col0\" >8</td> \n",
       "        <td id=\"T_41dc3bb0_43d8_11e9_a7d2_f8cab8325e57row4_col1\" class=\"data row4 col1\" >1.02</td> \n",
       "        <td id=\"T_41dc3bb0_43d8_11e9_a7d2_f8cab8325e57row4_col2\" class=\"data row4 col2\" >$8.16</td> \n",
       "    </tr></tbody> \n",
       "</table> "
      ],
      "text/plain": [
       "<pandas.io.formats.style.Styler at 0x2273e83a0b8>"
      ]
     },
     "execution_count": 329,
     "metadata": {},
     "output_type": "execute_result"
    }
   ],
   "source": [
    "Summary_6=pd.concat([MPtotalpurchasecount,MPitemprice,MPtotalpurchasevalue], axis=1)\n",
    "Summary_6.rename(columns={'Purchase_ID':\"Purchase_Count\",'Price':\"Iteam_Price\",0:\"Total_Purchase_Value\"}, inplace=True)\n",
    "Summary_6sort=Summary_6.sort_values('Purchase_Count',ascending=False).head()\n",
    "Summary_6_format = Summary_6sort.style.format({\"Item_Price\":\"${:,.2f}\".format,\"Total_Purchase_Value\":\"${:,.2f}\".format})\n",
    "Summary_6_format"
   ]
  },
  {
   "cell_type": "code",
   "execution_count": 9,
   "metadata": {},
   "outputs": [
    {
     "data": {
      "text/html": [
       "<div>\n",
       "<table border=\"1\" class=\"dataframe\">\n",
       "  <thead>\n",
       "    <tr style=\"text-align: right;\">\n",
       "      <th></th>\n",
       "      <th></th>\n",
       "      <th>Purchase Count</th>\n",
       "      <th>Item Price</th>\n",
       "      <th>Total Purchase Value</th>\n",
       "    </tr>\n",
       "    <tr>\n",
       "      <th>Item ID</th>\n",
       "      <th>Item Name</th>\n",
       "      <th></th>\n",
       "      <th></th>\n",
       "      <th></th>\n",
       "    </tr>\n",
       "  </thead>\n",
       "  <tbody>\n",
       "    <tr>\n",
       "      <th>178</th>\n",
       "      <th>Oathbreaker, Last Hope of the Breaking Storm</th>\n",
       "      <td>12</td>\n",
       "      <td>$4.23</td>\n",
       "      <td>$50.76</td>\n",
       "    </tr>\n",
       "    <tr>\n",
       "      <th>145</th>\n",
       "      <th>Fiery Glass Crusader</th>\n",
       "      <td>9</td>\n",
       "      <td>$4.58</td>\n",
       "      <td>$41.22</td>\n",
       "    </tr>\n",
       "    <tr>\n",
       "      <th>108</th>\n",
       "      <th>Extraction, Quickblade Of Trembling Hands</th>\n",
       "      <td>9</td>\n",
       "      <td>$3.53</td>\n",
       "      <td>$31.77</td>\n",
       "    </tr>\n",
       "    <tr>\n",
       "      <th>82</th>\n",
       "      <th>Nirvana</th>\n",
       "      <td>9</td>\n",
       "      <td>$4.90</td>\n",
       "      <td>$44.10</td>\n",
       "    </tr>\n",
       "    <tr>\n",
       "      <th>19</th>\n",
       "      <th>Pursuit, Cudgel of Necromancy</th>\n",
       "      <td>8</td>\n",
       "      <td>$1.02</td>\n",
       "      <td>$8.16</td>\n",
       "    </tr>\n",
       "  </tbody>\n",
       "</table>\n",
       "</div>"
      ],
      "text/plain": [
       "                                                     Purchase Count  \\\n",
       "Item ID Item Name                                                     \n",
       "178     Oathbreaker, Last Hope of the Breaking Storm             12   \n",
       "145     Fiery Glass Crusader                                      9   \n",
       "108     Extraction, Quickblade Of Trembling Hands                 9   \n",
       "82      Nirvana                                                   9   \n",
       "19      Pursuit, Cudgel of Necromancy                             8   \n",
       "\n",
       "                                                     Item Price  \\\n",
       "Item ID Item Name                                                 \n",
       "178     Oathbreaker, Last Hope of the Breaking Storm      $4.23   \n",
       "145     Fiery Glass Crusader                              $4.58   \n",
       "108     Extraction, Quickblade Of Trembling Hands         $3.53   \n",
       "82      Nirvana                                           $4.90   \n",
       "19      Pursuit, Cudgel of Necromancy                     $1.02   \n",
       "\n",
       "                                                     Total Purchase Value  \n",
       "Item ID Item Name                                                          \n",
       "178     Oathbreaker, Last Hope of the Breaking Storm               $50.76  \n",
       "145     Fiery Glass Crusader                                       $41.22  \n",
       "108     Extraction, Quickblade Of Trembling Hands                  $31.77  \n",
       "82      Nirvana                                                    $44.10  \n",
       "19      Pursuit, Cudgel of Necromancy                               $8.16  "
      ]
     },
     "execution_count": 9,
     "metadata": {},
     "output_type": "execute_result"
    }
   ],
   "source": []
  },
  {
   "cell_type": "markdown",
   "metadata": {},
   "source": [
    "## Most Profitable Items"
   ]
  },
  {
   "cell_type": "markdown",
   "metadata": {},
   "source": [
    "* Sort the above table by total purchase value in descending order\n",
    "\n",
    "\n",
    "* Optional: give the displayed data cleaner formatting\n",
    "\n",
    "\n",
    "* Display a preview of the data frame\n",
    "\n"
   ]
  },
  {
   "cell_type": "code",
   "execution_count": 331,
   "metadata": {
    "scrolled": true
   },
   "outputs": [
    {
     "data": {
      "text/html": [
       "<div>\n",
       "<style scoped>\n",
       "    .dataframe tbody tr th:only-of-type {\n",
       "        vertical-align: middle;\n",
       "    }\n",
       "\n",
       "    .dataframe tbody tr th {\n",
       "        vertical-align: top;\n",
       "    }\n",
       "\n",
       "    .dataframe thead th {\n",
       "        text-align: right;\n",
       "    }\n",
       "</style>\n",
       "<table border=\"1\" class=\"dataframe\">\n",
       "  <thead>\n",
       "    <tr style=\"text-align: right;\">\n",
       "      <th></th>\n",
       "      <th></th>\n",
       "      <th>Purchase_Count</th>\n",
       "      <th>Iteam_Price</th>\n",
       "      <th>Total_Purchase_Value</th>\n",
       "    </tr>\n",
       "    <tr>\n",
       "      <th>Item_ID</th>\n",
       "      <th>Item_Name</th>\n",
       "      <th></th>\n",
       "      <th></th>\n",
       "      <th></th>\n",
       "    </tr>\n",
       "  </thead>\n",
       "  <tbody>\n",
       "    <tr>\n",
       "      <th>178</th>\n",
       "      <th>Oathbreaker, Last Hope of the Breaking Storm</th>\n",
       "      <td>12</td>\n",
       "      <td>4.23</td>\n",
       "      <td>50.76</td>\n",
       "    </tr>\n",
       "    <tr>\n",
       "      <th>82</th>\n",
       "      <th>Nirvana</th>\n",
       "      <td>9</td>\n",
       "      <td>4.90</td>\n",
       "      <td>44.10</td>\n",
       "    </tr>\n",
       "    <tr>\n",
       "      <th>145</th>\n",
       "      <th>Fiery Glass Crusader</th>\n",
       "      <td>9</td>\n",
       "      <td>4.58</td>\n",
       "      <td>41.22</td>\n",
       "    </tr>\n",
       "    <tr>\n",
       "      <th>92</th>\n",
       "      <th>Final Critic</th>\n",
       "      <td>8</td>\n",
       "      <td>4.88</td>\n",
       "      <td>39.04</td>\n",
       "    </tr>\n",
       "    <tr>\n",
       "      <th>103</th>\n",
       "      <th>Singed Scalpel</th>\n",
       "      <td>8</td>\n",
       "      <td>4.35</td>\n",
       "      <td>34.80</td>\n",
       "    </tr>\n",
       "  </tbody>\n",
       "</table>\n",
       "</div>"
      ],
      "text/plain": [
       "                                                      Purchase_Count  \\\n",
       "Item_ID Item_Name                                                      \n",
       "178     Oathbreaker, Last Hope of the Breaking Storm              12   \n",
       "82      Nirvana                                                    9   \n",
       "145     Fiery Glass Crusader                                       9   \n",
       "92      Final Critic                                               8   \n",
       "103     Singed Scalpel                                             8   \n",
       "\n",
       "                                                      Iteam_Price  \\\n",
       "Item_ID Item_Name                                                   \n",
       "178     Oathbreaker, Last Hope of the Breaking Storm         4.23   \n",
       "82      Nirvana                                              4.90   \n",
       "145     Fiery Glass Crusader                                 4.58   \n",
       "92      Final Critic                                         4.88   \n",
       "103     Singed Scalpel                                       4.35   \n",
       "\n",
       "                                                      Total_Purchase_Value  \n",
       "Item_ID Item_Name                                                           \n",
       "178     Oathbreaker, Last Hope of the Breaking Storm                 50.76  \n",
       "82      Nirvana                                                      44.10  \n",
       "145     Fiery Glass Crusader                                         41.22  \n",
       "92      Final Critic                                                 39.04  \n",
       "103     Singed Scalpel                                               34.80  "
      ]
     },
     "execution_count": 331,
     "metadata": {},
     "output_type": "execute_result"
    }
   ],
   "source": [
    "Summary_6sort2=Summary_6.sort_values('Total_Purchase_Value',ascending=False).head()\n",
    "Summary_6sort2"
   ]
  },
  {
   "cell_type": "code",
   "execution_count": null,
   "metadata": {},
   "outputs": [],
   "source": []
  }
 ],
 "metadata": {
  "anaconda-cloud": {},
  "kernel_info": {
   "name": "python3"
  },
  "kernelspec": {
   "display_name": "Python 3",
   "language": "python",
   "name": "python3"
  },
  "language_info": {
   "codemirror_mode": {
    "name": "ipython",
    "version": 3
   },
   "file_extension": ".py",
   "mimetype": "text/x-python",
   "name": "python",
   "nbconvert_exporter": "python",
   "pygments_lexer": "ipython3",
   "version": "3.7.1"
  },
  "nteract": {
   "version": "0.2.0"
  }
 },
 "nbformat": 4,
 "nbformat_minor": 2
}
